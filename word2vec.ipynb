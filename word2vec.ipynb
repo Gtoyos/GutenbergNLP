{
 "cells": [
  {
   "cell_type": "markdown",
   "id": "12fe8317-0783-4f51-80e2-a4ab9066bb83",
   "metadata": {
    "jp-MarkdownHeadingCollapsed": true,
    "tags": []
   },
   "source": [
    "# Word2Vector\n",
    "\n",
    "In this notebook we show how we applied work to vector for text classification."
   ]
  },
  {
   "cell_type": "code",
   "execution_count": 12,
   "id": "0d8b6ed4-35e2-4106-a432-5425dd1a7709",
   "metadata": {},
   "outputs": [],
   "source": [
    "# Necessary imports\n",
    "import numpy as np\n",
    "import pandas as pd\n",
    "\n",
    "from sklearn.linear_model import LinearRegression \n",
    "from sklearn.linear_model import LogisticRegression \n",
    "from sklearn.svm import SVC\n",
    "from sklearn.tree import DecisionTreeClassifier, plot_tree\n",
    "from sklearn.naive_bayes import GaussianNB\n",
    "\n",
    "from sklearn.metrics import f1_score\n",
    "\n",
    "\n",
    "from sklearn.preprocessing import StandardScaler\n",
    "from sklearn.model_selection import train_test_split"
   ]
  },
  {
   "cell_type": "code",
   "execution_count": null,
   "id": "0c4729a4-4ae2-4fd2-a6f2-dc01b62a94e4",
   "metadata": {},
   "outputs": [],
   "source": [
    "subs = ['Juvenile fiction', 'History', 'Poetry',\n",
    "       'Politics and gouvernment', 'Cooking', 'Mistery', 'Philosophy',\n",
    "       'Christian', 'Love stories', 'Periodicals', 'Humor', 'Travelling',\n",
    "       'Correspondence', 'Adventure', 'Drama', 'Biography',\n",
    "       'Historical fiction', 'Science fiction', 'Fantasy fiction', 'Science',\n",
    "       'Others']\n",
    "\n",
    "# We load the already processed word embeddings.\n",
    "X = np.load(\"embeddings/X.npy\")\n",
    "X_test = np.load(\"embeddings/X_test.npy\")\n",
    "Y = np.load(\"embeddings/Y.npy\")\n",
    "Y_test = np.load(\"embeddings/Y_test.npy\")"
   ]
  },
  {
   "cell_type": "code",
   "execution_count": null,
   "id": "e610d898-92ce-4140-ae23-68999345348b",
   "metadata": {},
   "outputs": [],
   "source": [
    "scaler = StandardScaler()\n",
    "x_scaled = StandardScaler().fit_transform(X)\n",
    "X_test_scaled = scaler.fit(X).transform(X_test)\n",
    "\n",
    "def decide(X):\n",
    "    Y = X.copy()\n",
    "    for i,k in enumerate(X):\n",
    "        if k>0.5:\n",
    "            Y[i]=1\n",
    "        else:\n",
    "            Y[i]=0\n",
    "    return Y\n",
    "\n",
    "for s,c in enumerate(subs):\n",
    "    Y_s = Y.copy()\n",
    "    Y_test_s = Y_test.copy()\n",
    "    for i in range(len(Y)):\n",
    "        if Y_s[i]==s:\n",
    "            Y_s[i]=1\n",
    "        else:\n",
    "            Y_s[i]=0\n",
    "    for i in range(len(Y_test)):\n",
    "        if Y_test_s[i]==s:\n",
    "            Y_test_s[i]=1\n",
    "        else:\n",
    "            Y_test_s[i]=0\n",
    "    M1 = LogisticRegression(max_iter=1000).fit(x_scaled, Y_s)\n",
    "    M2 = LinearRegression().fit(x_scaled, Y_s)\n",
    "    M3 = DecisionTreeClassifier().fit(x_scaled,Y_s)\n",
    "    M4 = GaussianNB().fit(x_scaled,Y_s)\n",
    "    print(\"---Results for classifiers of category\",c,\"---\")\n",
    "    print(\"Logistic:\",f1_score(decide(M1.predict(X_test_scaled)), Y_test_s))\n",
    "    print(\"Linear:\",f1_score(decide(M2.predict(X_test_scaled)), Y_test_s))\n",
    "    print(\"Tree:\",f1_score(decide(M3.predict(X_test_scaled)), Y_test_s))\n",
    "    print(\"Bayes:\",f1_score(decide(M4.predict(X_test_scaled)), Y_test_s))\n",
    "    "
   ]
  },
  {
   "cell_type": "markdown",
   "id": "112ba236-1cb8-4d9f-a063-a5b7ad525281",
   "metadata": {
    "jp-MarkdownHeadingCollapsed": true,
    "tags": []
   },
   "source": [
    "# Neural network classifier"
   ]
  },
  {
   "cell_type": "code",
   "execution_count": null,
   "id": "77ba9625-ff45-4605-a81c-ff4ca3a25c81",
   "metadata": {},
   "outputs": [],
   "source": [
    "# Definition of the network\n",
    "\n",
    "import tensorflow as tf\n",
    "from tensorflow import keras\n",
    "from tensorflow.keras import layers\n",
    "\n",
    "class BinaryClassifier():\n",
    "    def __init__(self,input_dim):\n",
    "        self.model = keras.Sequential(\n",
    "            [\n",
    "                keras.layers.Input(shape=(input_dim,)), # input shape : number of TFIDF features\n",
    "                keras.layers.Dense(units=int(input_dim*0.5), activation='relu'),\n",
    "                keras.layers.Dense(units=int(25), activation='relu'),\n",
    "                keras.layers.Dense(units=1, activation='sigmoid')\n",
    "            ]\n",
    "        )\n",
    "        self.model.compile(optimizer=\"rmsprop\", loss=\"binary_crossentropy\")\n",
    "    def fit(self,x_train,y_train,epochs=200):\n",
    "        #print(x_train)\n",
    "        return self.model.fit(x_train,y_train,epochs=epochs)\n",
    "\n",
    "    def predict(self,x_test):\n",
    "        return self.model.predict(x_test)"
   ]
  },
  {
   "cell_type": "code",
   "execution_count": null,
   "id": "32cedf80-c4a1-46bb-a25a-55b679e28aba",
   "metadata": {},
   "outputs": [],
   "source": [
    "scaler = StandardScaler()\n",
    "x_scaled = StandardScaler().fit_transform(X)\n",
    "X_test_scaled = scaler.fit(X).transform(X_test)\n",
    "\n",
    "#For each subject\n",
    "for s,c in enumerate(subs):\n",
    "    Y_s = Y.copy()\n",
    "    Y_test_s = Y_test.copy()\n",
    "    for i in range(len(Y)):\n",
    "        if Y_s[i]==s:\n",
    "            Y_s[i]=1\n",
    "        else:\n",
    "            Y_s[i]=0\n",
    "    for i in range(len(Y_test)):\n",
    "        if Y_test_s[i]==s:\n",
    "            Y_test_s[i]=1\n",
    "        else:\n",
    "            Y_test_s[i]=0\n",
    "    NN = BinaryClassifier(2500)\n",
    "    NN.fit(x_scaled,Y_s)\n",
    "    print(c,\":\",f1_score(decide(NN.predict(X_test_scaled)), Y_test_s))"
   ]
  },
  {
   "cell_type": "code",
   "execution_count": null,
   "id": "92d31f9b",
   "metadata": {},
   "outputs": [],
   "source": [
    "# Definition of the network\n",
    "\n",
    "import tensorflow as tf\n",
    "from tensorflow import keras\n",
    "from tensorflow.keras import layers\n",
    "\n",
    "class BinaryClassifier():\n",
    "    def __init__(self,input_dim):\n",
    "        self.model = keras.Sequential(\n",
    "            [\n",
    "                keras.layers.Input(shape=(input_dim,)), # input shape : number of TFIDF features\n",
    "                keras.layers.Dense(units=int(input_dim*0.5), activation='relu'),\n",
    "                keras.layers.Dense(units=int(25), activation='relu'),\n",
    "                keras.layers.Dense(units=1, activation='sigmoid')\n",
    "            ]\n",
    "        )\n",
    "        self.model.compile(optimizer=\"rmsprop\", loss=\"binary_crossentropy\")\n",
    "    def fit(self,x_train,y_train,epochs=200):\n",
    "        #print(x_train)\n",
    "        return self.model.fit(x_train,y_train,epochs=epochs)\n",
    "\n",
    "    def predict(self,x_test):\n",
    "        return self.model.predict(x_test)"
   ]
  },
  {
   "cell_type": "code",
   "execution_count": null,
   "id": "38348b79",
   "metadata": {},
   "outputs": [],
   "source": [
    "scaler = StandardScaler()\n",
    "x_scaled = StandardScaler().fit_transform(X)\n",
    "X_test_scaled = scaler.fit(X).transform(X_test)\n",
    "\n",
    "#For each subject\n",
    "for s,c in enumerate(subs):\n",
    "    Y_s = Y.copy()\n",
    "    Y_test_s = Y_test.copy()\n",
    "    for i in range(len(Y)):\n",
    "        if Y_s[i]==s:\n",
    "            Y_s[i]=1\n",
    "        else:\n",
    "            Y_s[i]=0\n",
    "    for i in range(len(Y_test)):\n",
    "        if Y_test_s[i]==s:\n",
    "            Y_test_s[i]=1\n",
    "        else:\n",
    "            Y_test_s[i]=0\n",
    "    NN = BinaryClassifier(2500)\n",
    "    NN.fit(x_scaled,Y_s)\n",
    "    print(c,\":\",f1_score(NN.predict(X_test_scaled), Y_test_s))"
   ]
  },
  {
   "cell_type": "markdown",
   "id": "f0fd87ff-a92b-46e8-ae5f-7aac86385d9f",
   "metadata": {
    "jp-MarkdownHeadingCollapsed": true,
    "tags": []
   },
   "source": [
    "# Results"
   ]
  },
  {
   "cell_type": "markdown",
   "id": "8081fdae-3144-43ae-bf91-db0cfaae47d1",
   "metadata": {},
   "source": [
    "It reads the results from `results_w2v.txt` which has been written manually by formating the output of this notebook"
   ]
  },
  {
   "cell_type": "code",
   "execution_count": null,
   "id": "42c9c08f-d076-4de5-ac77-680fb6da8da5",
   "metadata": {},
   "outputs": [],
   "source": [
    "import matplotlib.pyplot as plt\n",
    "algo = ['Neural network',\"Logistic\",\"Linear\",\"Tree\",\"Bayes\"]\n",
    "nn = {}\n",
    "logistic = {}\n",
    "linear = {}\n",
    "tree = {}\n",
    "bayes = {}\n",
    "A = [nn,logistic,linear,tree,bayes]\n",
    "\n",
    "s_i= -1\n",
    "a_i=0\n",
    "i=0\n",
    "with open(\"results_w2v.txt\",\"r\") as f:\n",
    "    for line in f:\n",
    "        if i%6==0:\n",
    "            s_i+=1\n",
    "            a_i=0\n",
    "            i+=1\n",
    "            continue\n",
    "        A[a_i][subs[s_i]] = float(line.split(\":\")[1])\n",
    "        a_i+=1\n",
    "        i+=1\n",
    "        \n",
    "fig = plt.figure()\n",
    "ax1 = fig.add_subplot(111)\n",
    "\n",
    "ax1.scatter(bayes.keys(),bayes.values(), s=10, c='k', marker=\"o\", label='Bayes')\n",
    "ax1.scatter(linear.keys(), linear.values(), s=10, c='b', marker=\"o\", label='Linear')\n",
    "ax1.scatter(logistic.keys(),logistic.values(), s=10, c='r', marker=\"o\", label='Logistic')\n",
    "ax1.scatter(tree.keys(),tree.values(), s=10, c='g', marker=\"o\", label='Tree')\n",
    "ax1.scatter(nn.keys(),nn.values(), s=10, c='y', marker=\"o\", label='NN')\n",
    "\n",
    "# plt.legend(loc='upper left')\n",
    "plt.legend(prop={'size': 7})\n",
    "plt.xticks(rotation = 90)\n",
    "plt.ylim(0,1)\n",
    "plt.grid()\n",
    "plt.show()        "
   ]
  }
 ],
 "metadata": {
  "kernelspec": {
   "display_name": "Python 3 (ipykernel)",
   "language": "python",
   "name": "python3"
  },
  "language_info": {
   "codemirror_mode": {
    "name": "ipython",
    "version": 3
   },
   "file_extension": ".py",
   "mimetype": "text/x-python",
   "name": "python",
   "nbconvert_exporter": "python",
   "pygments_lexer": "ipython3",
   "version": "3.10.6"
  }
 },
 "nbformat": 4,
 "nbformat_minor": 5
}
